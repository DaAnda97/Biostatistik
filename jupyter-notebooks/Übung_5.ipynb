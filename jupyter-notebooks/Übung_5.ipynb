{
 "cells": [
  {
   "cell_type": "markdown",
   "metadata": {},
   "source": [
    "# Übung 5"
   ]
  },
  {
   "cell_type": "code",
   "execution_count": 32,
   "metadata": {
    "collapsed": false
   },
   "outputs": [],
   "source": [
    "p_gelb = 0.3\n",
    "\n",
    "n = 1000\n",
    "\n",
    "x_untere_Grenze = 280\n",
    "x_obere_Grenze = 330"
   ]
  },
  {
   "cell_type": "code",
   "execution_count": 33,
   "metadata": {
    "collapsed": false
   },
   "outputs": [
    {
     "name": "stdout",
     "output_type": "stream",
     "text": [
      "[1] 0.9816876\n"
     ]
    }
   ],
   "source": [
    "# W-keit für weniger 330 oder exakt 330 gelbe Blüten P(X<=330)\n",
    "\n",
    "p_w_kleiner330 = pbinom(x_obere_Grenze,n,p_gelb)\n",
    "print(p_w_kleiner330)"
   ]
  },
  {
   "cell_type": "code",
   "execution_count": 34,
   "metadata": {
    "collapsed": false
   },
   "outputs": [
    {
     "name": "stdout",
     "output_type": "stream",
     "text": [
      "[1] 0.07787874\n"
     ]
    }
   ],
   "source": [
    "# W-keit für weniger als 280 gelbe Blüten P(X<280)\n",
    "\n",
    "p_w_kleiner279 = pbinom(x_untere_Grenze-1,n,p_gelb)\n",
    "print(p_w_kleiner279)"
   ]
  },
  {
   "cell_type": "code",
   "execution_count": 35,
   "metadata": {
    "collapsed": false
   },
   "outputs": [
    {
     "name": "stdout",
     "output_type": "stream",
     "text": [
      "[1] 0.9038088\n"
     ]
    }
   ],
   "source": [
    "p_w_zwischen_280u330 = p_w_kleiner330 - p_w_kleiner279 \n",
    "print(p_w_zwischen_280u330)"
   ]
  },
  {
   "cell_type": "code",
   "execution_count": null,
   "metadata": {
    "collapsed": true
   },
   "outputs": [],
   "source": []
  }
 ],
 "metadata": {
  "kernelspec": {
   "display_name": "R",
   "language": "R",
   "name": "ir"
  },
  "language_info": {
   "codemirror_mode": "r",
   "file_extension": ".r",
   "mimetype": "text/x-r-source",
   "name": "R",
   "pygments_lexer": "r",
   "version": "3.3.1"
  }
 },
 "nbformat": 4,
 "nbformat_minor": 0
}
