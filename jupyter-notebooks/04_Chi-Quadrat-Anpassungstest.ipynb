{
 "cells": [
  {
   "cell_type": "code",
   "execution_count": 1,
   "metadata": {
    "collapsed": true
   },
   "outputs": [],
   "source": [
    "x_star = c(74,36,155)\n",
    "p_null = c(0.25, 0.12, 0.63)"
   ]
  },
  {
   "cell_type": "code",
   "execution_count": 2,
   "metadata": {
    "collapsed": false
   },
   "outputs": [
    {
     "data": {
      "text/plain": [
       "\n",
       "\tChi-squared test for given probabilities\n",
       "\n",
       "data:  x_star\n",
       "X-squared = 2.3167, df = 2, p-value = 0.314\n"
      ]
     },
     "metadata": {},
     "output_type": "display_data"
    }
   ],
   "source": [
    "chisq.test(x=x_star, p=p_null)"
   ]
  },
  {
   "cell_type": "markdown",
   "metadata": {},
   "source": [
    "### Einzelne Summanden:"
   ]
  },
  {
   "cell_type": "code",
   "execution_count": 3,
   "metadata": {
    "collapsed": false
   },
   "outputs": [
    {
     "data": {
      "text/html": [
       "<ol class=list-inline>\n",
       "\t<li>66.25</li>\n",
       "\t<li>31.8</li>\n",
       "\t<li>166.95</li>\n",
       "</ol>\n"
      ],
      "text/latex": [
       "\\begin{enumerate*}\n",
       "\\item 66.25\n",
       "\\item 31.8\n",
       "\\item 166.95\n",
       "\\end{enumerate*}\n"
      ],
      "text/markdown": [
       "1. 66.25\n",
       "2. 31.8\n",
       "3. 166.95\n",
       "\n",
       "\n"
      ],
      "text/plain": [
       "[1]  66.25  31.80 166.95"
      ]
     },
     "metadata": {},
     "output_type": "display_data"
    }
   ],
   "source": [
    "chisq.test(x=x_star, p=p_null)$expected #Erwartet"
   ]
  },
  {
   "cell_type": "code",
   "execution_count": 4,
   "metadata": {
    "collapsed": false
   },
   "outputs": [
    {
     "data": {
      "text/html": [
       "<ol class=list-inline>\n",
       "\t<li>0.952157431092624</li>\n",
       "\t<li>0.744793247238505</li>\n",
       "\t<li>-0.924857224923372</li>\n",
       "</ol>\n"
      ],
      "text/latex": [
       "\\begin{enumerate*}\n",
       "\\item 0.952157431092624\n",
       "\\item 0.744793247238505\n",
       "\\item -0.924857224923372\n",
       "\\end{enumerate*}\n"
      ],
      "text/markdown": [
       "1. 0.952157431092624\n",
       "2. 0.744793247238505\n",
       "3. -0.924857224923372\n",
       "\n",
       "\n"
      ],
      "text/plain": [
       "[1]  0.9521574  0.7447932 -0.9248572"
      ]
     },
     "metadata": {},
     "output_type": "display_data"
    }
   ],
   "source": [
    "chisq.test(x=x_star, p=p_null)$residuals #Residuals"
   ]
  },
  {
   "cell_type": "code",
   "execution_count": 5,
   "metadata": {
    "collapsed": false
   },
   "outputs": [
    {
     "data": {
      "text/html": [
       "<ol class=list-inline>\n",
       "\t<li>0.906603773584906</li>\n",
       "\t<li>0.554716981132076</li>\n",
       "\t<li>0.85536088649296</li>\n",
       "</ol>\n"
      ],
      "text/latex": [
       "\\begin{enumerate*}\n",
       "\\item 0.906603773584906\n",
       "\\item 0.554716981132076\n",
       "\\item 0.85536088649296\n",
       "\\end{enumerate*}\n"
      ],
      "text/markdown": [
       "1. 0.906603773584906\n",
       "2. 0.554716981132076\n",
       "3. 0.85536088649296\n",
       "\n",
       "\n"
      ],
      "text/plain": [
       "[1] 0.9066038 0.5547170 0.8553609"
      ]
     },
     "metadata": {},
     "output_type": "display_data"
    }
   ],
   "source": [
    "(chisq.test(x=x_star, p=p_null)$residuals)^2 #Einzelne Summanden"
   ]
  },
  {
   "cell_type": "code",
   "execution_count": 6,
   "metadata": {
    "collapsed": false
   },
   "outputs": [
    {
     "data": {
      "text/html": [
       "2.31668164120994"
      ],
      "text/latex": [
       "2.31668164120994"
      ],
      "text/markdown": [
       "2.31668164120994"
      ],
      "text/plain": [
       "[1] 2.316682"
      ]
     },
     "metadata": {},
     "output_type": "display_data"
    }
   ],
   "source": [
    "sum((chisq.test(x=x_star, p=p_null)$residuals)^2) #Wert der Teststatistik"
   ]
  },
  {
   "cell_type": "code",
   "execution_count": 7,
   "metadata": {
    "collapsed": false
   },
   "outputs": [
    {
     "name": "stderr",
     "output_type": "stream",
     "text": [
      "Installing package into ‘/usr/local/lib/R/site-library’\n",
      "(as ‘lib’ is unspecified)\n"
     ]
    }
   ],
   "source": [
    "install.packages('EMT')\n",
    "library(EMT)"
   ]
  },
  {
   "cell_type": "code",
   "execution_count": 8,
   "metadata": {
    "collapsed": false
   },
   "outputs": [
    {
     "name": "stdout",
     "output_type": "stream",
     "text": [
      "\n",
      " Exact Multinomial Test, distance measure: p\n",
      "\n",
      "    Events    pObs    p.value\n",
      "     35511  0.0013     0.2915\n"
     ]
    }
   ],
   "source": [
    "multinomial.test(observed = x_star, prob = p_null)"
   ]
  },
  {
   "cell_type": "code",
   "execution_count": 9,
   "metadata": {
    "collapsed": false
   },
   "outputs": [
    {
     "name": "stdout",
     "output_type": "stream",
     "text": [
      "\n",
      " Exact Multinomial Test, distance measure: chisquare\n",
      "\n",
      "    Events    chi2Obs    p.value\n",
      "     35511     2.3167      0.317\n"
     ]
    }
   ],
   "source": [
    "# Über Chi-Quadrat-Approximation:\n",
    "multinomial.test(observed = x_star, prob = p_null, useChisq = TRUE)"
   ]
  },
  {
   "cell_type": "markdown",
   "metadata": {},
   "source": [
    "## Beispiel: "
   ]
  },
  {
   "cell_type": "code",
   "execution_count": 10,
   "metadata": {
    "collapsed": true
   },
   "outputs": [],
   "source": [
    "mu = 106.78\n",
    "sigma = 21.48\n",
    "\n",
    "\n",
    "x = c(-Inf, seq(80,140, by= 10),Inf)"
   ]
  },
  {
   "cell_type": "code",
   "execution_count": 11,
   "metadata": {
    "collapsed": true
   },
   "outputs": [],
   "source": [
    "# Beobachtungen\n",
    "b = c(13,7,12,17,15,13,7,6)\n",
    "n = sum(b)"
   ]
  },
  {
   "cell_type": "code",
   "execution_count": 12,
   "metadata": {
    "collapsed": false
   },
   "outputs": [
    {
     "data": {
      "text/html": [
       "<ol class=list-inline>\n",
       "\t<li>-Inf</li>\n",
       "\t<li>80</li>\n",
       "\t<li>90</li>\n",
       "\t<li>100</li>\n",
       "\t<li>110</li>\n",
       "\t<li>120</li>\n",
       "\t<li>130</li>\n",
       "\t<li>140</li>\n",
       "</ol>\n"
      ],
      "text/latex": [
       "\\begin{enumerate*}\n",
       "\\item -Inf\n",
       "\\item 80\n",
       "\\item 90\n",
       "\\item 100\n",
       "\\item 110\n",
       "\\item 120\n",
       "\\item 130\n",
       "\\item 140\n",
       "\\end{enumerate*}\n"
      ],
      "text/markdown": [
       "1. -Inf\n",
       "2. 80\n",
       "3. 90\n",
       "4. 100\n",
       "5. 110\n",
       "6. 120\n",
       "7. 130\n",
       "8. 140\n",
       "\n",
       "\n"
      ],
      "text/plain": [
       "[1] -Inf   80   90  100  110  120  130  140"
      ]
     },
     "metadata": {},
     "output_type": "display_data"
    }
   ],
   "source": [
    "## Berechnung der Wahrscheinlichkeiten unter 80\n",
    "(x_unten = x[-length(x)])"
   ]
  },
  {
   "cell_type": "code",
   "execution_count": 13,
   "metadata": {
    "collapsed": false
   },
   "outputs": [
    {
     "data": {
      "text/html": [
       "<ol class=list-inline>\n",
       "\t<li>80</li>\n",
       "\t<li>90</li>\n",
       "\t<li>100</li>\n",
       "\t<li>110</li>\n",
       "\t<li>120</li>\n",
       "\t<li>130</li>\n",
       "\t<li>140</li>\n",
       "\t<li>Inf</li>\n",
       "</ol>\n"
      ],
      "text/latex": [
       "\\begin{enumerate*}\n",
       "\\item 80\n",
       "\\item 90\n",
       "\\item 100\n",
       "\\item 110\n",
       "\\item 120\n",
       "\\item 130\n",
       "\\item 140\n",
       "\\item Inf\n",
       "\\end{enumerate*}\n"
      ],
      "text/markdown": [
       "1. 80\n",
       "2. 90\n",
       "3. 100\n",
       "4. 110\n",
       "5. 120\n",
       "6. 130\n",
       "7. 140\n",
       "8. Inf\n",
       "\n",
       "\n"
      ],
      "text/plain": [
       "[1]  80  90 100 110 120 130 140 Inf"
      ]
     },
     "metadata": {},
     "output_type": "display_data"
    }
   ],
   "source": [
    "(x_oben = x[-1])"
   ]
  },
  {
   "cell_type": "code",
   "execution_count": 14,
   "metadata": {
    "collapsed": false
   },
   "outputs": [
    {
     "data": {
      "text/html": [
       "<ol class=list-inline>\n",
       "\t<li>0.106246211738245</li>\n",
       "\t<li>0.111098634314378</li>\n",
       "\t<li>0.15879210746142</li>\n",
       "\t<li>0.183444008680679</li>\n",
       "\t<li>0.171292307221633</li>\n",
       "\t<li>0.129279416294194</li>\n",
       "\t<li>0.0788620124609672</li>\n",
       "\t<li>0.0609853018284836</li>\n",
       "</ol>\n"
      ],
      "text/latex": [
       "\\begin{enumerate*}\n",
       "\\item 0.106246211738245\n",
       "\\item 0.111098634314378\n",
       "\\item 0.15879210746142\n",
       "\\item 0.183444008680679\n",
       "\\item 0.171292307221633\n",
       "\\item 0.129279416294194\n",
       "\\item 0.0788620124609672\n",
       "\\item 0.0609853018284836\n",
       "\\end{enumerate*}\n"
      ],
      "text/markdown": [
       "1. 0.106246211738245\n",
       "2. 0.111098634314378\n",
       "3. 0.15879210746142\n",
       "4. 0.183444008680679\n",
       "5. 0.171292307221633\n",
       "6. 0.129279416294194\n",
       "7. 0.0788620124609672\n",
       "8. 0.0609853018284836\n",
       "\n",
       "\n"
      ],
      "text/plain": [
       "[1] 0.10624621 0.11109863 0.15879211 0.18344401 0.17129231 0.12927942 0.07886201\n",
       "[8] 0.06098530"
      ]
     },
     "metadata": {},
     "output_type": "display_data"
    }
   ],
   "source": [
    "( p_null = pnorm(x_oben,mu,sigma) - pnorm(x_unten,mu, sigma) )"
   ]
  },
  {
   "cell_type": "code",
   "execution_count": 15,
   "metadata": {
    "collapsed": false
   },
   "outputs": [
    {
     "data": {
      "text/html": [
       "8"
      ],
      "text/latex": [
       "8"
      ],
      "text/markdown": [
       "8"
      ],
      "text/plain": [
       "[1] 8"
      ]
     },
     "metadata": {},
     "output_type": "display_data"
    }
   ],
   "source": [
    "length(p_null)"
   ]
  },
  {
   "cell_type": "code",
   "execution_count": 16,
   "metadata": {
    "collapsed": false
   },
   "outputs": [
    {
     "name": "stdout",
     "output_type": "stream",
     "text": [
      "\n",
      "\tChi-squared test for given probabilities\n",
      "\n",
      "data:  b\n",
      "X-squared = 2.7376, df = 7, p-value = 0.9082\n",
      "\n"
     ]
    }
   ],
   "source": [
    "ergebnis = chisq.test(x=b, p=p_null) \n",
    "\n",
    "print(ergebnis)"
   ]
  },
  {
   "cell_type": "code",
   "execution_count": 17,
   "metadata": {
    "collapsed": false
   },
   "outputs": [
    {
     "data": {
      "text/html": [
       "2.73764284683301"
      ],
      "text/latex": [
       "2.73764284683301"
      ],
      "text/markdown": [
       "2.73764284683301"
      ],
      "text/plain": [
       "[1] 2.737643"
      ]
     },
     "metadata": {},
     "output_type": "display_data"
    }
   ],
   "source": [
    "ergebnis$statistic[[1]]"
   ]
  },
  {
   "cell_type": "code",
   "execution_count": 18,
   "metadata": {
    "collapsed": false
   },
   "outputs": [
    {
     "name": "stdout",
     "output_type": "stream",
     "text": [
      "[1] 0.7403554\n"
     ]
    }
   ],
   "source": [
    "p_W = 1-pchisq(ergebnis$statistic[[1]], 5)\n",
    "\n",
    "print(p_W)"
   ]
  },
  {
   "cell_type": "markdown",
   "metadata": {},
   "source": [
    "## Hypergeometrische Verteilung"
   ]
  },
  {
   "cell_type": "markdown",
   "metadata": {},
   "source": [
    "### Händisch über hyptergeometrische wahrscheinlichkeiten"
   ]
  },
  {
   "cell_type": "code",
   "execution_count": 19,
   "metadata": {
    "collapsed": false
   },
   "outputs": [
    {
     "data": {
      "text/html": [
       "0.00699300699300699"
      ],
      "text/latex": [
       "0.00699300699300699"
      ],
      "text/markdown": [
       "0.00699300699300699"
      ],
      "text/plain": [
       "[1] 0.006993007"
      ]
     },
     "metadata": {},
     "output_type": "display_data"
    },
    {
     "data": {
      "text/html": [
       "0.0932400932400933"
      ],
      "text/latex": [
       "0.0932400932400933"
      ],
      "text/markdown": [
       "0.0932400932400933"
      ],
      "text/plain": [
       "[1] 0.09324009"
      ]
     },
     "metadata": {},
     "output_type": "display_data"
    }
   ],
   "source": [
    "choose(7,5)*choose(8,0)/choose(15,5)\n",
    "dhyper(4,7,8,5)"
   ]
  },
  {
   "cell_type": "code",
   "execution_count": null,
   "metadata": {
    "collapsed": true
   },
   "outputs": [],
   "source": []
  }
 ],
 "metadata": {
  "kernelspec": {
   "display_name": "R",
   "language": "R",
   "name": "ir"
  },
  "language_info": {
   "codemirror_mode": "r",
   "file_extension": ".r",
   "mimetype": "text/x-r-source",
   "name": "R",
   "pygments_lexer": "r",
   "version": "3.3.1"
  }
 },
 "nbformat": 4,
 "nbformat_minor": 0
}
