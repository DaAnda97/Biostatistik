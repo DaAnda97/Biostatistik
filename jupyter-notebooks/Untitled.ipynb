{
 "cells": [
  {
   "cell_type": "markdown",
   "metadata": {},
   "source": [
    "# Mantel Haenszen Test"
   ]
  },
  {
   "cell_type": "code",
   "execution_count": 1,
   "metadata": {
    "collapsed": false
   },
   "outputs": [
    {
     "data": {
      "text/plain": [
       "\n",
       "\tMantel-Haenszel chi-squared test without continuity correction\n",
       "\n",
       "data:  tafel\n",
       "Mantel-Haenszel X-squared = 4.6743, df = 1, p-value = 0.03062\n",
       "alternative hypothesis: true common odds ratio is not equal to 1\n",
       "95 percent confidence interval:\n",
       " 0.1812593 0.9413896\n",
       "sample estimates:\n",
       "common odds ratio \n",
       "        0.4130807 \n"
      ]
     },
     "metadata": {},
     "output_type": "display_data"
    }
   ],
   "source": [
    "tafel=array(c(3,11,86,69,6,8,67,63),dim=c(2,2,2))\n",
    "dimnames(tafel)= list(c(\"APSAC\",\"Heparin\"),c(\"Verstorben\",\"überlebt\"),c(\"Hinterwand\",\"Vorderwand\"))\n",
    "\n",
    "mantelhaen.test(x=tafel, correct = FALSE, exact = FALSE)"
   ]
  },
  {
   "cell_type": "markdown",
   "metadata": {},
   "source": [
    "# (k x m) Chiquadrat Test"
   ]
  },
  {
   "cell_type": "code",
   "execution_count": 10,
   "metadata": {
    "collapsed": false
   },
   "outputs": [
    {
     "name": "stderr",
     "output_type": "stream",
     "text": [
      "Warning message in chisq.test(tafel, correct = FALSE):\n",
      "“Chi-squared approximation may be incorrect”"
     ]
    },
    {
     "data": {
      "text/plain": [
       "\n",
       "\tPearson's Chi-squared test\n",
       "\n",
       "data:  tafel\n",
       "X-squared = 55.24, df = 4, p-value = 2.894e-11\n"
      ]
     },
     "metadata": {},
     "output_type": "display_data"
    }
   ],
   "source": [
    "tafel = matrix(c(28,9,3,17,1,2,5,0,25), 3,3, byrow=TRUE)\n",
    "\n",
    "chisq.test(tafel, correct=FALSE)"
   ]
  },
  {
   "cell_type": "code",
   "execution_count": 11,
   "metadata": {
    "collapsed": false
   },
   "outputs": [
    {
     "name": "stderr",
     "output_type": "stream",
     "text": [
      "Warning message in chisq.test(tafel):\n",
      "“Chi-squared approximation may be incorrect”"
     ]
    },
    {
     "data": {
      "text/html": [
       "<table>\n",
       "<tbody>\n",
       "\t<tr><td>22.22222 </td><td>4.444444 </td><td>13.333333</td></tr>\n",
       "\t<tr><td>11.11111 </td><td>2.222222 </td><td> 6.666667</td></tr>\n",
       "\t<tr><td>16.66667 </td><td>3.333333 </td><td>10.000000</td></tr>\n",
       "</tbody>\n",
       "</table>\n"
      ],
      "text/latex": [
       "\\begin{tabular}{lll}\n",
       "\t 22.22222  & 4.444444  & 13.333333\\\\\n",
       "\t 11.11111  & 2.222222  &  6.666667\\\\\n",
       "\t 16.66667  & 3.333333  & 10.000000\\\\\n",
       "\\end{tabular}\n"
      ],
      "text/markdown": [
       "1. 22.2222222222222\n",
       "2. 11.1111111111111\n",
       "3. 16.6666666666667\n",
       "4. 4.44444444444444\n",
       "5. 2.22222222222222\n",
       "6. 3.33333333333333\n",
       "7. 13.3333333333333\n",
       "8. 6.66666666666667\n",
       "9. 10\n",
       "\n",
       "\n"
      ],
      "text/plain": [
       "     [,1]     [,2]     [,3]     \n",
       "[1,] 22.22222 4.444444 13.333333\n",
       "[2,] 11.11111 2.222222  6.666667\n",
       "[3,] 16.66667 3.333333 10.000000"
      ]
     },
     "metadata": {},
     "output_type": "display_data"
    }
   ],
   "source": [
    "chisq.test(tafel)$expected"
   ]
  },
  {
   "cell_type": "code",
   "execution_count": 12,
   "metadata": {
    "collapsed": false
   },
   "outputs": [
    {
     "ename": "ERROR",
     "evalue": "Error in is.data.frame(x): object 'test' not found\n",
     "output_type": "error",
     "traceback": [
      "Error in is.data.frame(x): object 'test' not found\nTraceback:\n",
      "1. chisq.test(test)",
      "2. is.data.frame(x)"
     ]
    }
   ],
   "source": [
    "chisq.test(test)$residuals ^2 # warum die Werte so hoch sind"
   ]
  },
  {
   "cell_type": "markdown",
   "metadata": {},
   "source": [
    "# McNemar"
   ]
  },
  {
   "cell_type": "code",
   "execution_count": 9,
   "metadata": {
    "collapsed": false
   },
   "outputs": [
    {
     "data": {
      "text/plain": [
       "\n",
       "\tMcNemar's Chi-squared test with continuity correction\n",
       "\n",
       "data:  tafel\n",
       "McNemar's chi-squared = 5.2632, df = 1, p-value = 0.02178\n"
      ]
     },
     "metadata": {},
     "output_type": "display_data"
    }
   ],
   "source": [
    "tafel = matrix(c(9,15,4,10), 2,2, byrow = TRUE)\n",
    "mcnemar.test(tafel, correct = TRUE)"
   ]
  },
  {
   "cell_type": "markdown",
   "metadata": {},
   "source": [
    "--> Wenn einseitig, dann p-Wert halbieren!"
   ]
  },
  {
   "cell_type": "markdown",
   "metadata": {},
   "source": [
    "# Median-Test"
   ]
  },
  {
   "cell_type": "code",
   "execution_count": 16,
   "metadata": {
    "collapsed": false
   },
   "outputs": [
    {
     "data": {
      "text/html": [
       "2.5"
      ],
      "text/latex": [
       "2.5"
      ],
      "text/markdown": [
       "2.5"
      ],
      "text/plain": [
       "[1] 2.5"
      ]
     },
     "metadata": {},
     "output_type": "display_data"
    }
   ],
   "source": [
    "isol = c(1,4,1,2,2,1,5,1,2)\n",
    "inte = c(1,4,4,1,3,2,4,4,5,4,4)\n",
    "\n",
    "med = median(c(isol, inte))\n",
    "med"
   ]
  },
  {
   "cell_type": "code",
   "execution_count": 17,
   "metadata": {
    "collapsed": false
   },
   "outputs": [],
   "source": [
    "n11 = sum(isol > med)\n",
    "n12 = sum(inte > med)\n",
    "n21 = sum(isol < med)\n",
    "n22 = sum(inte < med)"
   ]
  },
  {
   "cell_type": "code",
   "execution_count": null,
   "metadata": {
    "collapsed": true
   },
   "outputs": [],
   "source": [
    "tafel = matrix(n11, n12, n21, n22)\n"
   ]
  }
 ],
 "metadata": {
  "kernelspec": {
   "display_name": "R",
   "language": "R",
   "name": "ir"
  },
  "language_info": {
   "codemirror_mode": "r",
   "file_extension": ".r",
   "mimetype": "text/x-r-source",
   "name": "R",
   "pygments_lexer": "r",
   "version": "3.3.1"
  }
 },
 "nbformat": 4,
 "nbformat_minor": 0
}
