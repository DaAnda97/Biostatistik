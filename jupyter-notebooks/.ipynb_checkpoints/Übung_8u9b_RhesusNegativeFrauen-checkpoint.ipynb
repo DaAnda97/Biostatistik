{
 "cells": [
  {
   "cell_type": "markdown",
   "metadata": {},
   "source": [
    "# Rhesus negative Frauen"
   ]
  },
  {
   "cell_type": "code",
   "execution_count": 1,
   "metadata": {
    "collapsed": true
   },
   "outputs": [],
   "source": [
    "p = 1/6\n",
    "n = 180\n",
    "rhn = 44"
   ]
  },
  {
   "cell_type": "markdown",
   "metadata": {},
   "source": [
    "## 8a) Normalverteilungsapproximation der Binomialverteilung"
   ]
  },
  {
   "cell_type": "markdown",
   "metadata": {},
   "source": [
    "#### p-Wert"
   ]
  },
  {
   "cell_type": "code",
   "execution_count": 2,
   "metadata": {
    "collapsed": false
   },
   "outputs": [
    {
     "data": {
      "text/html": [
       "2.7"
      ],
      "text/latex": [
       "2.7"
      ],
      "text/markdown": [
       "2.7"
      ],
      "text/plain": [
       "[1] 2.7"
      ]
     },
     "metadata": {},
     "output_type": "display_data"
    }
   ],
   "source": [
    "mittelwert = p*n\n",
    "sigma = sqrt(n*p*(1-p))\n",
    "\n",
    "z = ((rhn-0.5) - mittelwert) / sigma\n",
    "z"
   ]
  },
  {
   "cell_type": "code",
   "execution_count": 3,
   "metadata": {
    "collapsed": false
   },
   "outputs": [
    {
     "data": {
      "text/html": [
       "0.00346697380304062"
      ],
      "text/latex": [
       "0.00346697380304062"
      ],
      "text/markdown": [
       "0.00346697380304062"
      ],
      "text/plain": [
       "[1] 0.003466974"
      ]
     },
     "metadata": {},
     "output_type": "display_data"
    }
   ],
   "source": [
    "p_w = 1 - pnorm(z)\n",
    "p_w"
   ]
  },
  {
   "cell_type": "markdown",
   "metadata": {},
   "source": [
    "--> Wir verwerfen H0"
   ]
  },
  {
   "cell_type": "markdown",
   "metadata": {},
   "source": [
    "#### Kritischer Wert"
   ]
  },
  {
   "cell_type": "code",
   "execution_count": 4,
   "metadata": {
    "collapsed": false
   },
   "outputs": [
    {
     "data": {
      "text/html": [
       "38.7245"
      ],
      "text/latex": [
       "38.7245"
      ],
      "text/markdown": [
       "38.7245"
      ],
      "text/plain": [
       "[1] 38.7245"
      ]
     },
     "metadata": {},
     "output_type": "display_data"
    }
   ],
   "source": [
    "z_0.95 = 1.6449\n",
    "\n",
    "x_crit = sqrt(n*p*(1-p)) * z_0.95 + n*p + 0.5\n",
    "x_crit"
   ]
  },
  {
   "cell_type": "markdown",
   "metadata": {},
   "source": [
    "-> Der kritische Wert liegt bei 39 Pers."
   ]
  },
  {
   "cell_type": "markdown",
   "metadata": {},
   "source": [
    "## 8b) Extakte Werte via Binomialtest"
   ]
  },
  {
   "cell_type": "code",
   "execution_count": 5,
   "metadata": {
    "collapsed": false
   },
   "outputs": [
    {
     "data": {
      "text/plain": [
       "\n",
       "\tExact binomial test\n",
       "\n",
       "data:  rhn and n\n",
       "number of successes = 44, number of trials = 180, p-value = 0.004868\n",
       "alternative hypothesis: true probability of success is greater than 0.1666667\n",
       "95 percent confidence interval:\n",
       " 0.192441 1.000000\n",
       "sample estimates:\n",
       "probability of success \n",
       "             0.2444444 \n"
      ]
     },
     "metadata": {},
     "output_type": "display_data"
    }
   ],
   "source": [
    "binom.test(rhn, n, p, alternative=\"greater\")"
   ]
  },
  {
   "cell_type": "markdown",
   "metadata": {},
   "source": [
    "## Chi-Quadrat"
   ]
  },
  {
   "cell_type": "code",
   "execution_count": 6,
   "metadata": {
    "collapsed": true
   },
   "outputs": [],
   "source": [
    "beob = c(rhn,n-rhn)\n",
    "erw = c(p*n,(1-p)*n)"
   ]
  },
  {
   "cell_type": "code",
   "execution_count": 7,
   "metadata": {
    "collapsed": false
   },
   "outputs": [
    {
     "data": {
      "text/html": [
       "7.84"
      ],
      "text/latex": [
       "7.84"
      ],
      "text/markdown": [
       "7.84"
      ],
      "text/plain": [
       "[1] 7.84"
      ]
     },
     "metadata": {},
     "output_type": "display_data"
    }
   ],
   "source": [
    "xq = sum((beob-erw)^2/erw)\n",
    "xq"
   ]
  },
  {
   "cell_type": "code",
   "execution_count": 8,
   "metadata": {
    "collapsed": false
   },
   "outputs": [
    {
     "data": {
      "text/html": [
       "7.29"
      ],
      "text/latex": [
       "7.29"
      ],
      "text/markdown": [
       "7.29"
      ],
      "text/plain": [
       "[1] 7.29"
      ]
     },
     "metadata": {},
     "output_type": "display_data"
    }
   ],
   "source": [
    "# mit Korrektur\n",
    "xq_c = sum((abs(beob-erw)-0.5)^2/erw)\n",
    "xq_c"
   ]
  },
  {
   "cell_type": "code",
   "execution_count": 9,
   "metadata": {
    "collapsed": false
   },
   "outputs": [
    {
     "data": {
      "text/html": [
       "2.70554345409542"
      ],
      "text/latex": [
       "2.70554345409542"
      ],
      "text/markdown": [
       "2.70554345409542"
      ],
      "text/plain": [
       "[1] 2.705543"
      ]
     },
     "metadata": {},
     "output_type": "display_data"
    }
   ],
   "source": [
    "# p-Wert\n",
    "qchisq(0.9,1)"
   ]
  },
  {
   "cell_type": "code",
   "execution_count": 10,
   "metadata": {
    "collapsed": false
   },
   "outputs": [
    {
     "data": {
      "text/html": [
       "0.0026"
      ],
      "text/latex": [
       "0.0026"
      ],
      "text/markdown": [
       "0.0026"
      ],
      "text/plain": [
       "[1] 0.0026"
      ]
     },
     "metadata": {},
     "output_type": "display_data"
    },
    {
     "data": {
      "text/html": [
       "0.0035"
      ],
      "text/latex": [
       "0.0035"
      ],
      "text/markdown": [
       "0.0035"
      ],
      "text/plain": [
       "[1] 0.0035"
      ]
     },
     "metadata": {},
     "output_type": "display_data"
    }
   ],
   "source": [
    "round(0.5*(1-pchisq(xq,1)),4)\n",
    "round(0.5*(1-pchisq(xq_c,1)),4)"
   ]
  },
  {
   "cell_type": "markdown",
   "metadata": {},
   "source": [
    "## Chi Quadrat Test"
   ]
  },
  {
   "cell_type": "code",
   "execution_count": 11,
   "metadata": {
    "collapsed": false
   },
   "outputs": [
    {
     "data": {
      "text/plain": [
       "\n",
       "\tChi-squared test for given probabilities\n",
       "\n",
       "data:  beob\n",
       "X-squared = 7.84, df = 1, p-value = 0.00511\n"
      ]
     },
     "metadata": {},
     "output_type": "display_data"
    }
   ],
   "source": [
    "chisq.test(beob, p=erw/n)"
   ]
  },
  {
   "cell_type": "markdown",
   "metadata": {
    "collapsed": false
   },
   "source": [
    "Der nicht-Normierte Wert muss Durch 2 geteilt werden, damit der gleiche Wert, wie beim Vorimplementierten Test rauskommt"
   ]
  }
 ],
 "metadata": {
  "kernelspec": {
   "display_name": "R",
   "language": "R",
   "name": "ir"
  },
  "language_info": {
   "codemirror_mode": "r",
   "file_extension": ".r",
   "mimetype": "text/x-r-source",
   "name": "R",
   "pygments_lexer": "r",
   "version": "3.3.1"
  }
 },
 "nbformat": 4,
 "nbformat_minor": 0
}
