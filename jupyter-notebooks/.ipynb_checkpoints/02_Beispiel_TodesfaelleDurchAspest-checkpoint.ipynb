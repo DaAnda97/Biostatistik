{
 "cells": [
  {
   "cell_type": "code",
   "execution_count": 1,
   "metadata": {
    "collapsed": true
   },
   "outputs": [],
   "source": [
    "# Größe der Abbildungen anpassen\n",
    "options(repr.plot.width=4, repr.plot.height=4, repr.plot.pointsize=12)"
   ]
  },
  {
   "cell_type": "code",
   "execution_count": 2,
   "metadata": {
    "collapsed": false
   },
   "outputs": [
    {
     "data": {
      "text/html": [
       "0.01287841796875"
      ],
      "text/latex": [
       "0.01287841796875"
      ],
      "text/markdown": [
       "0.01287841796875"
      ],
      "text/plain": [
       "[1] 0.01287842"
      ]
     },
     "metadata": {},
     "output_type": "display_data"
    }
   ],
   "source": [
    "n = 7\n",
    "p = 0.25\n",
    "\n",
    "#p-Wert\n",
    "(p_W = 1 - pbinom(4,n,p)) # 5 beobachtete Fälle"
   ]
  },
  {
   "cell_type": "code",
   "execution_count": 3,
   "metadata": {
    "collapsed": false
   },
   "outputs": [
    {
     "data": {
      "text/html": [
       "0.070556640625"
      ],
      "text/latex": [
       "0.070556640625"
      ],
      "text/markdown": [
       "0.070556640625"
      ],
      "text/plain": [
       "[1] 0.07055664"
      ]
     },
     "metadata": {},
     "output_type": "display_data"
    }
   ],
   "source": [
    "# Kritischer WErt\n",
    "1 - pbinom(3,n,p) # ist 4 der Kritische WErt"
   ]
  },
  {
   "cell_type": "code",
   "execution_count": 4,
   "metadata": {
    "collapsed": false
   },
   "outputs": [
    {
     "data": {
      "text/html": [
       "0.2265625"
      ],
      "text/latex": [
       "0.2265625"
      ],
      "text/markdown": [
       "0.2265625"
      ],
      "text/plain": [
       "[1] 0.2265625"
      ]
     },
     "metadata": {},
     "output_type": "display_data"
    }
   ],
   "source": [
    "# Teststäkre\n",
    "1 - pbinom(4,n,0.5)"
   ]
  },
  {
   "cell_type": "code",
   "execution_count": 5,
   "metadata": {
    "collapsed": true
   },
   "outputs": [],
   "source": [
    "# B bei 50 von 70\n",
    "n = 70\n",
    "p = 0.25"
   ]
  },
  {
   "cell_type": "code",
   "execution_count": 6,
   "metadata": {
    "collapsed": false
   },
   "outputs": [],
   "source": [
    "# p-Wert\n",
    "p_W = 1 - pbinom(49,n,p)"
   ]
  },
  {
   "cell_type": "code",
   "execution_count": 7,
   "metadata": {
    "collapsed": false
   },
   "outputs": [
    {
     "data": {
      "text/html": [
       "0.0522567672449938"
      ],
      "text/latex": [
       "0.0522567672449938"
      ],
      "text/markdown": [
       "0.0522567672449938"
      ],
      "text/plain": [
       "[1] 0.05225677"
      ]
     },
     "metadata": {},
     "output_type": "display_data"
    }
   ],
   "source": [
    "# Kritischer Wert\n",
    "1-pbinom(23,n,p) # -> Muss 24 nehmen"
   ]
  },
  {
   "cell_type": "code",
   "execution_count": 8,
   "metadata": {
    "collapsed": false
   },
   "outputs": [
    {
     "data": {
      "image/png": "[encoded data removed]",
      "text/plain": [
       "plot without title"
      ]
     },
     "metadata": {},
     "output_type": "display_data"
    }
   ],
   "source": [
    "# Grafische Darstellung der Gütefunktion\n",
    "p = seq(0,1,by=0.005)\n",
    "G_7 = 1-pbinom(4,7,p)\n",
    "G_70 = 1-pbinom(34,70,p)\n",
    "\n",
    "plot(p,G_7, type=\"l\", lwd=2, col=\"red\")\n",
    "par(new=TRUE)\n",
    "plot(p,G_70, type=\"l\", lwd=2, col=\"blue\")"
   ]
  },
  {
   "cell_type": "markdown",
   "metadata": {
    "collapsed": true
   },
   "source": [
    "## Binomiltest\n",
    "\n",
    "alternative bezieht sich auf die Gegenhypothes H1 <br>\n",
    "Einstellen es Niveaus alpha über conf.level = 1-alpha "
   ]
  },
  {
   "cell_type": "code",
   "execution_count": 9,
   "metadata": {
    "collapsed": false
   },
   "outputs": [
    {
     "data": {
      "text/plain": [
       "\n",
       "\tExact binomial test\n",
       "\n",
       "data:  x and n\n",
       "number of successes = 5, number of trials = 7, p-value = 0.01288\n",
       "alternative hypothesis: true probability of success is greater than 0.25\n",
       "95 percent confidence interval:\n",
       " 0.3412614 1.0000000\n",
       "sample estimates:\n",
       "probability of success \n",
       "             0.7142857 \n"
      ]
     },
     "metadata": {},
     "output_type": "display_data"
    }
   ],
   "source": [
    "n = 7\n",
    "x = 5\n",
    "p = 0.25\n",
    "\n",
    "binom.test(x,n,p,alternative = \"greater\")"
   ]
  },
  {
   "cell_type": "markdown",
   "metadata": {},
   "source": [
    "Da p=1,29% -> Entscheidung für H1 <br>\n",
    "**Probability of success** = Erfolgswahrscheinlichkeit (hier: Todeswahrscheinlichkeit für Krebs durch Aspest) <br>\n",
    "**Konfidenzintervall**: Plausible Werte für den unbekannten Parameter (je größer das niveau, um so breiter wird das Intervall) <br>\n",
    "-> Werte, die außerhalb des Niveaus liegen, passen sehr schlecht zu H0 "
   ]
  },
  {
   "cell_type": "code",
   "execution_count": null,
   "metadata": {
    "collapsed": true
   },
   "outputs": [],
   "source": []
  }
 ],
 "metadata": {
  "kernelspec": {
   "display_name": "R",
   "language": "R",
   "name": "ir"
  },
  "language_info": {
   "codemirror_mode": "r",
   "file_extension": ".r",
   "mimetype": "text/x-r-source",
   "name": "R",
   "pygments_lexer": "r",
   "version": "3.3.1"
  }
 },
 "nbformat": 4,
 "nbformat_minor": 0
}
