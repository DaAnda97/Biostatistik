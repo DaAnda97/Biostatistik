{
 "cells": [
  {
   "cell_type": "markdown",
   "metadata": {},
   "source": [
    "# Übung 3\n",
    "\n",
    "\n"
   ]
  },
  {
   "cell_type": "code",
   "execution_count": 1,
   "metadata": {
    "collapsed": true
   },
   "outputs": [],
   "source": [
    "n = 1866\n",
    "\n",
    "g_S_p = 270\n",
    "g_S_n = 61\n",
    "\n",
    "g_kS_p = 23\n",
    "g_kS_n = 2\n",
    "\n",
    "\n",
    "k_S_p = 102\n",
    "k_S_n = 129\n",
    "\n",
    "k_kS_p = 658\n",
    "k_kS_n = 621\n",
    "\n",
    "\n",
    "ges_S_p = 372\n",
    "ges_S_n = 190\n",
    "\n",
    "ges_kS_p = 681\n",
    "ges_kS_n = 623"
   ]
  },
  {
   "cell_type": "markdown",
   "metadata": {},
   "source": [
    "## a) relative Risiken gesamt:"
   ]
  },
  {
   "cell_type": "code",
   "execution_count": 3,
   "metadata": {
    "collapsed": false
   },
   "outputs": [
    {
     "name": "stdout",
     "output_type": "stream",
     "text": [
      "[1] 1.267468\n"
     ]
    }
   ],
   "source": [
    "rr_positiv_ges = ( ges_S_p / (ges_S_p + ges_S_n) ) / ( ges_kS_p / (ges_kS_p + ges_kS_n) )\n",
    "print(rr_positiv_ges)"
   ]
  },
  {
   "cell_type": "markdown",
   "metadata": {},
   "source": [
    "## b) relative Risiken einzeln:\n"
   ]
  },
  {
   "cell_type": "code",
   "execution_count": 4,
   "metadata": {
    "collapsed": false
   },
   "outputs": [
    {
     "name": "stdout",
     "output_type": "stream",
     "text": [
      "[1] 0.8866413\n"
     ]
    }
   ],
   "source": [
    "rr_positiv_groß = ( g_S_p / (g_S_p + g_S_n) ) / ( g_kS_p / (g_kS_p + g_kS_n) )\n",
    "print(rr_positiv_groß)"
   ]
  },
  {
   "cell_type": "code",
   "execution_count": 5,
   "metadata": {
    "collapsed": false
   },
   "outputs": [
    {
     "name": "stdout",
     "output_type": "stream",
     "text": [
      "[1] 0.8582876\n"
     ]
    }
   ],
   "source": [
    "rr_positiv_klein = ( k_S_p / (k_S_p + k_S_n) ) / ( k_kS_p / (k_kS_p + k_kS_n) )\n",
    "print(rr_positiv_klein)"
   ]
  },
  {
   "cell_type": "code",
   "execution_count": null,
   "metadata": {
    "collapsed": true
   },
   "outputs": [],
   "source": []
  },
  {
   "cell_type": "markdown",
   "metadata": {
    "collapsed": true
   },
   "source": [
    "# Übung 4 \n",
    "siehe Rückseite Aufgabenblatt"
   ]
  },
  {
   "cell_type": "code",
   "execution_count": null,
   "metadata": {
    "collapsed": true
   },
   "outputs": [],
   "source": []
  }
 ],
 "metadata": {
  "kernelspec": {
   "display_name": "R",
   "language": "R",
   "name": "ir"
  },
  "language_info": {
   "codemirror_mode": "r",
   "file_extension": ".r",
   "mimetype": "text/x-r-source",
   "name": "R",
   "pygments_lexer": "r",
   "version": "3.3.1"
  }
 },
 "nbformat": 4,
 "nbformat_minor": 0
}
