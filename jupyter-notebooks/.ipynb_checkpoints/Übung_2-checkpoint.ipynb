{
 "cells": [
  {
   "cell_type": "markdown",
   "metadata": {},
   "source": [
    "# Aufgabe 2"
   ]
  },
  {
   "cell_type": "code",
   "execution_count": 4,
   "metadata": {
    "collapsed": true
   },
   "outputs": [],
   "source": [
    "n = 16\n",
    "p = 0.5"
   ]
  },
  {
   "cell_type": "markdown",
   "metadata": {},
   "source": [
    "## a) H1: Neues Mittel m ist wirksamer als Placebo a=5%\n",
    "P: Wahrscheinlichkeit, dass trotz Medikament mindestens 12 Blutdruckrückgänge Zufall sind"
   ]
  },
  {
   "cell_type": "code",
   "execution_count": 5,
   "metadata": {
    "collapsed": false
   },
   "outputs": [
    {
     "name": "stdout",
     "output_type": "stream",
     "text": [
      "[1] 0.03840637\n"
     ]
    }
   ],
   "source": [
    "P = dbinom(12,n,p) + dbinom(13,n,p) + dbinom(14,n,p) + dbinom(15,n,p) + dbinom(16,n,p)\n",
    "print(P)\n",
    "\n",
    "# Alternativ:\n",
    "P = 1 - pbinom(11,n,p)"
   ]
  },
  {
   "cell_type": "markdown",
   "metadata": {},
   "source": [
    "Zu 3,8% ist bei den 12 Patienten der Blutdruck zufällig zurückgegangen"
   ]
  },
  {
   "cell_type": "markdown",
   "metadata": {},
   "source": [
    "## b) H1: Neues Mittel m ist unterschiedlich zu Placebo a=5%\n",
    "--> Beidseitige Betrachtung notwendig\n",
    "P2: Wahrscheinlichkeit, dass trotz Medikament die mind. 12 Blutdruckrückgänge Zufall waren und mind. 4 Nicht-Blutdruckrückgänge auch"
   ]
  },
  {
   "cell_type": "code",
   "execution_count": 6,
   "metadata": {
    "collapsed": false
   },
   "outputs": [
    {
     "name": "stdout",
     "output_type": "stream",
     "text": [
      "[1] 0.07681274\n"
     ]
    }
   ],
   "source": [
    "P2 = P * 2 # da symmetrisch\n",
    "print(P2)\n",
    "\n",
    "# Alternativ:\n",
    "P2 = ( 1 - pbinom(11,n,p) ) + pbinom(4,n,p)\n",
    "\n",
    "# -> 0.0768 --> Zu 7,6% ist das Ergenis zufällig zustande gekommen"
   ]
  },
  {
   "cell_type": "code",
   "execution_count": null,
   "metadata": {
    "collapsed": true
   },
   "outputs": [],
   "source": []
  }
 ],
 "metadata": {
  "kernelspec": {
   "display_name": "R",
   "language": "R",
   "name": "ir"
  },
  "language_info": {
   "codemirror_mode": "r",
   "file_extension": ".r",
   "mimetype": "text/x-r-source",
   "name": "R",
   "pygments_lexer": "r",
   "version": "3.3.1"
  }
 },
 "nbformat": 4,
 "nbformat_minor": 0
}
